{
 "cells": [
  {
   "cell_type": "markdown",
   "id": "65c5d353-a829-40a9-9b82-e8a82cd0fc08",
   "metadata": {},
   "source": [
    "Для отклика на вакансию предлагаем Вам выполнить тестовое задание\n",
    "Есть 2 группы студентов одна их которых ходила на подготовительные курсы, другая нет.\n",
    "Нужно понять повлияло ли посещение курсов на балл студентов между группами.\n",
    "\n",
    "Данные по результатам находятся по ссылке ниже и предоставлены в виде 3 файлов\n",
    "https://gist.github.com/StMrKirk/6f861e06a4d30fae67b11bb6b75f48ef\n",
    "\n",
    "Задание необходимо выполнить с помощью Python.\n",
    "В ответе можете приложить выполненный код, ссылку на gist или jupyter notebook. \n",
    "Будет здорово, если вы сопроводите решение небольшим рассуждением или комментариями."
   ]
  },
  {
   "cell_type": "code",
   "execution_count": 1,
   "id": "d535a409-afc6-4a5f-b628-51ee59d843f8",
   "metadata": {},
   "outputs": [],
   "source": [
    "import pandas as pd\n",
    "import seaborn as sns\n",
    "import numpy as np\n",
    "from statistics import variance\n",
    "from scipy.stats import shapiro\n",
    "from scipy import stats as st"
   ]
  },
  {
   "cell_type": "code",
   "execution_count": 2,
   "id": "2960f3b9-2fcd-4dcb-a488-a44532a108b9",
   "metadata": {},
   "outputs": [],
   "source": [
    "try:\n",
    "    after_score = pd.read_csv('student_after_score.csv')\n",
    "    before_score = pd.read_csv('student_before_score.csv')\n",
    "    group = pd.read_csv('student_group.csv')\n",
    "except:\n",
    "    raise Exception('Check the files')"
   ]
  },
  {
   "cell_type": "code",
   "execution_count": 3,
   "id": "272904c5-5444-4490-bc11-18a7731d141a",
   "metadata": {},
   "outputs": [],
   "source": [
    "def get_general_info(df: pd.DataFrame) -> None:\n",
    "    \"\"\"\n",
    "    Функция выводит базовую инфу по датасету\n",
    "    одним полем\n",
    "    \"\"\"\n",
    "    display(df.head())\n",
    "    display(df.info())\n",
    "    display(df.describe())\n",
    "    print('Количество пропусков:')\n",
    "    display(df.isna().sum())\n",
    "    print(f'Количество дубликатов: {df.duplicated().sum()}')"
   ]
  },
  {
   "cell_type": "code",
   "execution_count": 4,
   "id": "bc536342-4112-492d-9566-35ad475b637c",
   "metadata": {},
   "outputs": [
    {
     "data": {
      "text/html": [
       "<div>\n",
       "<style scoped>\n",
       "    .dataframe tbody tr th:only-of-type {\n",
       "        vertical-align: middle;\n",
       "    }\n",
       "\n",
       "    .dataframe tbody tr th {\n",
       "        vertical-align: top;\n",
       "    }\n",
       "\n",
       "    .dataframe thead th {\n",
       "        text-align: right;\n",
       "    }\n",
       "</style>\n",
       "<table border=\"1\" class=\"dataframe\">\n",
       "  <thead>\n",
       "    <tr style=\"text-align: right;\">\n",
       "      <th></th>\n",
       "      <th>student_id</th>\n",
       "      <th>after_score</th>\n",
       "    </tr>\n",
       "  </thead>\n",
       "  <tbody>\n",
       "    <tr>\n",
       "      <th>0</th>\n",
       "      <td>1</td>\n",
       "      <td>92</td>\n",
       "    </tr>\n",
       "    <tr>\n",
       "      <th>1</th>\n",
       "      <td>2</td>\n",
       "      <td>79</td>\n",
       "    </tr>\n",
       "    <tr>\n",
       "      <th>2</th>\n",
       "      <td>3</td>\n",
       "      <td>92</td>\n",
       "    </tr>\n",
       "    <tr>\n",
       "      <th>3</th>\n",
       "      <td>4</td>\n",
       "      <td>90</td>\n",
       "    </tr>\n",
       "    <tr>\n",
       "      <th>4</th>\n",
       "      <td>5</td>\n",
       "      <td>98</td>\n",
       "    </tr>\n",
       "  </tbody>\n",
       "</table>\n",
       "</div>"
      ],
      "text/plain": [
       "   student_id  after_score\n",
       "0           1           92\n",
       "1           2           79\n",
       "2           3           92\n",
       "3           4           90\n",
       "4           5           98"
      ]
     },
     "metadata": {},
     "output_type": "display_data"
    },
    {
     "name": "stdout",
     "output_type": "stream",
     "text": [
      "<class 'pandas.core.frame.DataFrame'>\n",
      "RangeIndex: 1000 entries, 0 to 999\n",
      "Data columns (total 2 columns):\n",
      " #   Column       Non-Null Count  Dtype\n",
      "---  ------       --------------  -----\n",
      " 0   student_id   1000 non-null   int64\n",
      " 1   after_score  1000 non-null   int64\n",
      "dtypes: int64(2)\n",
      "memory usage: 15.8 KB\n"
     ]
    },
    {
     "data": {
      "text/plain": [
       "None"
      ]
     },
     "metadata": {},
     "output_type": "display_data"
    },
    {
     "data": {
      "text/html": [
       "<div>\n",
       "<style scoped>\n",
       "    .dataframe tbody tr th:only-of-type {\n",
       "        vertical-align: middle;\n",
       "    }\n",
       "\n",
       "    .dataframe tbody tr th {\n",
       "        vertical-align: top;\n",
       "    }\n",
       "\n",
       "    .dataframe thead th {\n",
       "        text-align: right;\n",
       "    }\n",
       "</style>\n",
       "<table border=\"1\" class=\"dataframe\">\n",
       "  <thead>\n",
       "    <tr style=\"text-align: right;\">\n",
       "      <th></th>\n",
       "      <th>student_id</th>\n",
       "      <th>after_score</th>\n",
       "    </tr>\n",
       "  </thead>\n",
       "  <tbody>\n",
       "    <tr>\n",
       "      <th>count</th>\n",
       "      <td>1000.000000</td>\n",
       "      <td>1000.000000</td>\n",
       "    </tr>\n",
       "    <tr>\n",
       "      <th>mean</th>\n",
       "      <td>500.500000</td>\n",
       "      <td>84.623000</td>\n",
       "    </tr>\n",
       "    <tr>\n",
       "      <th>std</th>\n",
       "      <td>288.819436</td>\n",
       "      <td>8.641154</td>\n",
       "    </tr>\n",
       "    <tr>\n",
       "      <th>min</th>\n",
       "      <td>1.000000</td>\n",
       "      <td>70.000000</td>\n",
       "    </tr>\n",
       "    <tr>\n",
       "      <th>25%</th>\n",
       "      <td>250.750000</td>\n",
       "      <td>77.000000</td>\n",
       "    </tr>\n",
       "    <tr>\n",
       "      <th>50%</th>\n",
       "      <td>500.500000</td>\n",
       "      <td>85.000000</td>\n",
       "    </tr>\n",
       "    <tr>\n",
       "      <th>75%</th>\n",
       "      <td>750.250000</td>\n",
       "      <td>92.000000</td>\n",
       "    </tr>\n",
       "    <tr>\n",
       "      <th>max</th>\n",
       "      <td>1000.000000</td>\n",
       "      <td>99.000000</td>\n",
       "    </tr>\n",
       "  </tbody>\n",
       "</table>\n",
       "</div>"
      ],
      "text/plain": [
       "        student_id  after_score\n",
       "count  1000.000000  1000.000000\n",
       "mean    500.500000    84.623000\n",
       "std     288.819436     8.641154\n",
       "min       1.000000    70.000000\n",
       "25%     250.750000    77.000000\n",
       "50%     500.500000    85.000000\n",
       "75%     750.250000    92.000000\n",
       "max    1000.000000    99.000000"
      ]
     },
     "metadata": {},
     "output_type": "display_data"
    },
    {
     "name": "stdout",
     "output_type": "stream",
     "text": [
      "Количество пропусков:\n"
     ]
    },
    {
     "data": {
      "text/plain": [
       "student_id     0\n",
       "after_score    0\n",
       "dtype: int64"
      ]
     },
     "metadata": {},
     "output_type": "display_data"
    },
    {
     "name": "stdout",
     "output_type": "stream",
     "text": [
      "Количество дубликатов: 0\n"
     ]
    }
   ],
   "source": [
    "get_general_info(after_score)"
   ]
  },
  {
   "cell_type": "code",
   "execution_count": 5,
   "id": "f5a36c7c-07df-4c88-ae13-b354a42fef07",
   "metadata": {},
   "outputs": [
    {
     "data": {
      "text/html": [
       "<div>\n",
       "<style scoped>\n",
       "    .dataframe tbody tr th:only-of-type {\n",
       "        vertical-align: middle;\n",
       "    }\n",
       "\n",
       "    .dataframe tbody tr th {\n",
       "        vertical-align: top;\n",
       "    }\n",
       "\n",
       "    .dataframe thead th {\n",
       "        text-align: right;\n",
       "    }\n",
       "</style>\n",
       "<table border=\"1\" class=\"dataframe\">\n",
       "  <thead>\n",
       "    <tr style=\"text-align: right;\">\n",
       "      <th></th>\n",
       "      <th>student_id</th>\n",
       "      <th>before_score</th>\n",
       "    </tr>\n",
       "  </thead>\n",
       "  <tbody>\n",
       "    <tr>\n",
       "      <th>0</th>\n",
       "      <td>1</td>\n",
       "      <td>75</td>\n",
       "    </tr>\n",
       "    <tr>\n",
       "      <th>1</th>\n",
       "      <td>2</td>\n",
       "      <td>81</td>\n",
       "    </tr>\n",
       "    <tr>\n",
       "      <th>2</th>\n",
       "      <td>3</td>\n",
       "      <td>58</td>\n",
       "    </tr>\n",
       "    <tr>\n",
       "      <th>3</th>\n",
       "      <td>4</td>\n",
       "      <td>47</td>\n",
       "    </tr>\n",
       "    <tr>\n",
       "      <th>4</th>\n",
       "      <td>5</td>\n",
       "      <td>76</td>\n",
       "    </tr>\n",
       "  </tbody>\n",
       "</table>\n",
       "</div>"
      ],
      "text/plain": [
       "   student_id  before_score\n",
       "0           1            75\n",
       "1           2            81\n",
       "2           3            58\n",
       "3           4            47\n",
       "4           5            76"
      ]
     },
     "metadata": {},
     "output_type": "display_data"
    },
    {
     "name": "stdout",
     "output_type": "stream",
     "text": [
      "<class 'pandas.core.frame.DataFrame'>\n",
      "RangeIndex: 1000 entries, 0 to 999\n",
      "Data columns (total 2 columns):\n",
      " #   Column        Non-Null Count  Dtype\n",
      "---  ------        --------------  -----\n",
      " 0   student_id    1000 non-null   int64\n",
      " 1   before_score  1000 non-null   int64\n",
      "dtypes: int64(2)\n",
      "memory usage: 15.8 KB\n"
     ]
    },
    {
     "data": {
      "text/plain": [
       "None"
      ]
     },
     "metadata": {},
     "output_type": "display_data"
    },
    {
     "data": {
      "text/html": [
       "<div>\n",
       "<style scoped>\n",
       "    .dataframe tbody tr th:only-of-type {\n",
       "        vertical-align: middle;\n",
       "    }\n",
       "\n",
       "    .dataframe tbody tr th {\n",
       "        vertical-align: top;\n",
       "    }\n",
       "\n",
       "    .dataframe thead th {\n",
       "        text-align: right;\n",
       "    }\n",
       "</style>\n",
       "<table border=\"1\" class=\"dataframe\">\n",
       "  <thead>\n",
       "    <tr style=\"text-align: right;\">\n",
       "      <th></th>\n",
       "      <th>student_id</th>\n",
       "      <th>before_score</th>\n",
       "    </tr>\n",
       "  </thead>\n",
       "  <tbody>\n",
       "    <tr>\n",
       "      <th>count</th>\n",
       "      <td>1000.000000</td>\n",
       "      <td>1000.00000</td>\n",
       "    </tr>\n",
       "    <tr>\n",
       "      <th>mean</th>\n",
       "      <td>500.500000</td>\n",
       "      <td>63.92500</td>\n",
       "    </tr>\n",
       "    <tr>\n",
       "      <th>std</th>\n",
       "      <td>288.819436</td>\n",
       "      <td>14.59851</td>\n",
       "    </tr>\n",
       "    <tr>\n",
       "      <th>min</th>\n",
       "      <td>1.000000</td>\n",
       "      <td>40.00000</td>\n",
       "    </tr>\n",
       "    <tr>\n",
       "      <th>25%</th>\n",
       "      <td>250.750000</td>\n",
       "      <td>51.00000</td>\n",
       "    </tr>\n",
       "    <tr>\n",
       "      <th>50%</th>\n",
       "      <td>500.500000</td>\n",
       "      <td>64.00000</td>\n",
       "    </tr>\n",
       "    <tr>\n",
       "      <th>75%</th>\n",
       "      <td>750.250000</td>\n",
       "      <td>77.00000</td>\n",
       "    </tr>\n",
       "    <tr>\n",
       "      <th>max</th>\n",
       "      <td>1000.000000</td>\n",
       "      <td>89.00000</td>\n",
       "    </tr>\n",
       "  </tbody>\n",
       "</table>\n",
       "</div>"
      ],
      "text/plain": [
       "        student_id  before_score\n",
       "count  1000.000000    1000.00000\n",
       "mean    500.500000      63.92500\n",
       "std     288.819436      14.59851\n",
       "min       1.000000      40.00000\n",
       "25%     250.750000      51.00000\n",
       "50%     500.500000      64.00000\n",
       "75%     750.250000      77.00000\n",
       "max    1000.000000      89.00000"
      ]
     },
     "metadata": {},
     "output_type": "display_data"
    },
    {
     "name": "stdout",
     "output_type": "stream",
     "text": [
      "Количество пропусков:\n"
     ]
    },
    {
     "data": {
      "text/plain": [
       "student_id      0\n",
       "before_score    0\n",
       "dtype: int64"
      ]
     },
     "metadata": {},
     "output_type": "display_data"
    },
    {
     "name": "stdout",
     "output_type": "stream",
     "text": [
      "Количество дубликатов: 0\n"
     ]
    }
   ],
   "source": [
    "get_general_info(before_score)"
   ]
  },
  {
   "cell_type": "code",
   "execution_count": 6,
   "id": "8440e06c-1168-4cce-a78f-0687ec32ef6e",
   "metadata": {},
   "outputs": [
    {
     "data": {
      "text/html": [
       "<div>\n",
       "<style scoped>\n",
       "    .dataframe tbody tr th:only-of-type {\n",
       "        vertical-align: middle;\n",
       "    }\n",
       "\n",
       "    .dataframe tbody tr th {\n",
       "        vertical-align: top;\n",
       "    }\n",
       "\n",
       "    .dataframe thead th {\n",
       "        text-align: right;\n",
       "    }\n",
       "</style>\n",
       "<table border=\"1\" class=\"dataframe\">\n",
       "  <thead>\n",
       "    <tr style=\"text-align: right;\">\n",
       "      <th></th>\n",
       "      <th>student_id</th>\n",
       "      <th>group</th>\n",
       "    </tr>\n",
       "  </thead>\n",
       "  <tbody>\n",
       "    <tr>\n",
       "      <th>0</th>\n",
       "      <td>1</td>\n",
       "      <td>no_course</td>\n",
       "    </tr>\n",
       "    <tr>\n",
       "      <th>1</th>\n",
       "      <td>2</td>\n",
       "      <td>course</td>\n",
       "    </tr>\n",
       "    <tr>\n",
       "      <th>2</th>\n",
       "      <td>3</td>\n",
       "      <td>course</td>\n",
       "    </tr>\n",
       "    <tr>\n",
       "      <th>3</th>\n",
       "      <td>4</td>\n",
       "      <td>course</td>\n",
       "    </tr>\n",
       "    <tr>\n",
       "      <th>4</th>\n",
       "      <td>5</td>\n",
       "      <td>course</td>\n",
       "    </tr>\n",
       "  </tbody>\n",
       "</table>\n",
       "</div>"
      ],
      "text/plain": [
       "   student_id      group\n",
       "0           1  no_course\n",
       "1           2     course\n",
       "2           3     course\n",
       "3           4     course\n",
       "4           5     course"
      ]
     },
     "metadata": {},
     "output_type": "display_data"
    },
    {
     "name": "stdout",
     "output_type": "stream",
     "text": [
      "<class 'pandas.core.frame.DataFrame'>\n",
      "RangeIndex: 1000 entries, 0 to 999\n",
      "Data columns (total 2 columns):\n",
      " #   Column      Non-Null Count  Dtype \n",
      "---  ------      --------------  ----- \n",
      " 0   student_id  1000 non-null   int64 \n",
      " 1   group       1000 non-null   object\n",
      "dtypes: int64(1), object(1)\n",
      "memory usage: 15.8+ KB\n"
     ]
    },
    {
     "data": {
      "text/plain": [
       "None"
      ]
     },
     "metadata": {},
     "output_type": "display_data"
    },
    {
     "data": {
      "text/html": [
       "<div>\n",
       "<style scoped>\n",
       "    .dataframe tbody tr th:only-of-type {\n",
       "        vertical-align: middle;\n",
       "    }\n",
       "\n",
       "    .dataframe tbody tr th {\n",
       "        vertical-align: top;\n",
       "    }\n",
       "\n",
       "    .dataframe thead th {\n",
       "        text-align: right;\n",
       "    }\n",
       "</style>\n",
       "<table border=\"1\" class=\"dataframe\">\n",
       "  <thead>\n",
       "    <tr style=\"text-align: right;\">\n",
       "      <th></th>\n",
       "      <th>student_id</th>\n",
       "    </tr>\n",
       "  </thead>\n",
       "  <tbody>\n",
       "    <tr>\n",
       "      <th>count</th>\n",
       "      <td>1000.000000</td>\n",
       "    </tr>\n",
       "    <tr>\n",
       "      <th>mean</th>\n",
       "      <td>500.500000</td>\n",
       "    </tr>\n",
       "    <tr>\n",
       "      <th>std</th>\n",
       "      <td>288.819436</td>\n",
       "    </tr>\n",
       "    <tr>\n",
       "      <th>min</th>\n",
       "      <td>1.000000</td>\n",
       "    </tr>\n",
       "    <tr>\n",
       "      <th>25%</th>\n",
       "      <td>250.750000</td>\n",
       "    </tr>\n",
       "    <tr>\n",
       "      <th>50%</th>\n",
       "      <td>500.500000</td>\n",
       "    </tr>\n",
       "    <tr>\n",
       "      <th>75%</th>\n",
       "      <td>750.250000</td>\n",
       "    </tr>\n",
       "    <tr>\n",
       "      <th>max</th>\n",
       "      <td>1000.000000</td>\n",
       "    </tr>\n",
       "  </tbody>\n",
       "</table>\n",
       "</div>"
      ],
      "text/plain": [
       "        student_id\n",
       "count  1000.000000\n",
       "mean    500.500000\n",
       "std     288.819436\n",
       "min       1.000000\n",
       "25%     250.750000\n",
       "50%     500.500000\n",
       "75%     750.250000\n",
       "max    1000.000000"
      ]
     },
     "metadata": {},
     "output_type": "display_data"
    },
    {
     "name": "stdout",
     "output_type": "stream",
     "text": [
      "Количество пропусков:\n"
     ]
    },
    {
     "data": {
      "text/plain": [
       "student_id    0\n",
       "group         0\n",
       "dtype: int64"
      ]
     },
     "metadata": {},
     "output_type": "display_data"
    },
    {
     "name": "stdout",
     "output_type": "stream",
     "text": [
      "Количество дубликатов: 0\n"
     ]
    }
   ],
   "source": [
    "get_general_info(group)"
   ]
  },
  {
   "cell_type": "markdown",
   "id": "013c8cef-60b0-4d25-84ca-7e3ea6eeb513",
   "metadata": {},
   "source": [
    "Явных проблем с данными не видно. Объединим таблицы."
   ]
  },
  {
   "cell_type": "code",
   "execution_count": 7,
   "id": "cfab7245-15a4-4709-9fe4-1bacf906ff75",
   "metadata": {},
   "outputs": [],
   "source": [
    "data = before_score.merge(after_score, on='student_id', how='outer')\n",
    "data = data.merge(group, on='student_id', how='outer')"
   ]
  },
  {
   "cell_type": "code",
   "execution_count": 8,
   "id": "c1e387ce-0ab0-4e5e-a37b-e6ec8ef3cc33",
   "metadata": {},
   "outputs": [
    {
     "data": {
      "text/html": [
       "<div>\n",
       "<style scoped>\n",
       "    .dataframe tbody tr th:only-of-type {\n",
       "        vertical-align: middle;\n",
       "    }\n",
       "\n",
       "    .dataframe tbody tr th {\n",
       "        vertical-align: top;\n",
       "    }\n",
       "\n",
       "    .dataframe thead th {\n",
       "        text-align: right;\n",
       "    }\n",
       "</style>\n",
       "<table border=\"1\" class=\"dataframe\">\n",
       "  <thead>\n",
       "    <tr style=\"text-align: right;\">\n",
       "      <th></th>\n",
       "      <th>student_id</th>\n",
       "      <th>before_score</th>\n",
       "      <th>after_score</th>\n",
       "      <th>group</th>\n",
       "    </tr>\n",
       "  </thead>\n",
       "  <tbody>\n",
       "    <tr>\n",
       "      <th>0</th>\n",
       "      <td>1</td>\n",
       "      <td>75</td>\n",
       "      <td>92</td>\n",
       "      <td>no_course</td>\n",
       "    </tr>\n",
       "    <tr>\n",
       "      <th>1</th>\n",
       "      <td>2</td>\n",
       "      <td>81</td>\n",
       "      <td>79</td>\n",
       "      <td>course</td>\n",
       "    </tr>\n",
       "    <tr>\n",
       "      <th>2</th>\n",
       "      <td>3</td>\n",
       "      <td>58</td>\n",
       "      <td>92</td>\n",
       "      <td>course</td>\n",
       "    </tr>\n",
       "    <tr>\n",
       "      <th>3</th>\n",
       "      <td>4</td>\n",
       "      <td>47</td>\n",
       "      <td>90</td>\n",
       "      <td>course</td>\n",
       "    </tr>\n",
       "    <tr>\n",
       "      <th>4</th>\n",
       "      <td>5</td>\n",
       "      <td>76</td>\n",
       "      <td>98</td>\n",
       "      <td>course</td>\n",
       "    </tr>\n",
       "  </tbody>\n",
       "</table>\n",
       "</div>"
      ],
      "text/plain": [
       "   student_id  before_score  after_score      group\n",
       "0           1            75           92  no_course\n",
       "1           2            81           79     course\n",
       "2           3            58           92     course\n",
       "3           4            47           90     course\n",
       "4           5            76           98     course"
      ]
     },
     "execution_count": 8,
     "metadata": {},
     "output_type": "execute_result"
    }
   ],
   "source": [
    "data.head()"
   ]
  },
  {
   "cell_type": "code",
   "execution_count": 9,
   "id": "394240ca-9e7f-4551-bbe2-64e7e2a839e8",
   "metadata": {},
   "outputs": [
    {
     "data": {
      "text/plain": [
       "student_id      0\n",
       "before_score    0\n",
       "after_score     0\n",
       "group           0\n",
       "dtype: int64"
      ]
     },
     "execution_count": 9,
     "metadata": {},
     "output_type": "execute_result"
    }
   ],
   "source": [
    "# еще раз проверим на пропуски после объединения\n",
    "data.isna().sum()"
   ]
  },
  {
   "cell_type": "code",
   "execution_count": 10,
   "id": "98013805-8bb4-4b4d-afd0-7042c5888001",
   "metadata": {},
   "outputs": [
    {
     "data": {
      "text/plain": [
       "no_course    512\n",
       "course       488\n",
       "Name: group, dtype: int64"
      ]
     },
     "execution_count": 10,
     "metadata": {},
     "output_type": "execute_result"
    }
   ],
   "source": [
    "# постотрим на распределение групп: кто проходил и не проходил курсы\n",
    "is_course = data['group'].value_counts()\n",
    "is_course"
   ]
  },
  {
   "cell_type": "code",
   "execution_count": 11,
   "id": "1c76356c-448c-4fa0-8f29-770a05f8393d",
   "metadata": {},
   "outputs": [
    {
     "data": {
      "image/png": "[encoded data removed]",
      "text/plain": [
       "<Figure size 640x480 with 1 Axes>"
      ]
     },
     "metadata": {},
     "output_type": "display_data"
    }
   ],
   "source": [
    "# то же в формате графика\n",
    "sns.barplot(is_course, x=is_course.index, y=is_course.values);"
   ]
  },
  {
   "cell_type": "markdown",
   "id": "344702f0-af79-44d5-b5c7-a704a08cd275",
   "metadata": {},
   "source": [
    "Как видим, количество участников в двух группах почти не отличается."
   ]
  },
  {
   "cell_type": "code",
   "execution_count": 12,
   "id": "c3555538-ed20-4de6-9a0a-347f04307eae",
   "metadata": {},
   "outputs": [
    {
     "data": {
      "text/plain": [
       "1000"
      ]
     },
     "execution_count": 12,
     "metadata": {},
     "output_type": "execute_result"
    }
   ],
   "source": [
    "# проверим, что в данных нет неуникальных id\n",
    "len(data['student_id'].unique())"
   ]
  },
  {
   "cell_type": "code",
   "execution_count": 13,
   "id": "5f1e7932-0a77-4f84-8219-cb3529a66e77",
   "metadata": {},
   "outputs": [],
   "source": [
    "# посмотрим чисто визуально, как менялись оценки у двух групп\n",
    "students_no_course = data.query('group == \"no_course\"')\n",
    "students_with_course = data.query('group == \"course\"')"
   ]
  },
  {
   "cell_type": "code",
   "execution_count": 14,
   "id": "96106670-ebbf-4da4-878c-2a824eb0f48d",
   "metadata": {},
   "outputs": [
    {
     "data": {
      "text/plain": [
       "<Axes: xlabel='student_id', ylabel='before_score'>"
      ]
     },
     "metadata": {},
     "output_type": "display_data"
    },
    {
     "data": {
      "text/plain": [
       "<Axes: xlabel='student_id', ylabel='before_score'>"
      ]
     },
     "metadata": {},
     "output_type": "display_data"
    },
    {
     "data": {
      "image/png": "[encoded data removed]",
      "text/plain": [
       "<Figure size 640x480 with 1 Axes>"
      ]
     },
     "metadata": {},
     "output_type": "display_data"
    }
   ],
   "source": [
    "# не проходившие курс\n",
    "display(sns.scatterplot(students_no_course, x=students_no_course['student_id'], y='before_score'))\n",
    "display(sns.scatterplot(students_no_course, x=students_no_course['student_id'], y='after_score'))"
   ]
  },
  {
   "cell_type": "code",
   "execution_count": 15,
   "id": "89acba31-4fd5-4b67-8d3e-c762616754e7",
   "metadata": {},
   "outputs": [
    {
     "data": {
      "text/plain": [
       "<Axes: xlabel='student_id', ylabel='before_score'>"
      ]
     },
     "metadata": {},
     "output_type": "display_data"
    },
    {
     "data": {
      "text/plain": [
       "<Axes: xlabel='student_id', ylabel='before_score'>"
      ]
     },
     "metadata": {},
     "output_type": "display_data"
    },
    {
     "data": {
      "image/png": "[encoded data removed]",
      "text/plain": [
       "<Figure size 640x480 with 1 Axes>"
      ]
     },
     "metadata": {},
     "output_type": "display_data"
    }
   ],
   "source": [
    "# и для проходивших курс\n",
    "display(sns.scatterplot(students_with_course, x=students_with_course['student_id'], y='before_score'))\n",
    "display(sns.scatterplot(students_with_course, x=students_with_course['student_id'], y='after_score'))"
   ]
  },
  {
   "cell_type": "markdown",
   "id": "de7281ab-acd5-488b-9c2e-ea673e5391fe",
   "metadata": {},
   "source": [
    "На графиках видна четкая взаимосвязь, что оценки после стали выше у обеих групп. Но это нам ничего не говорит о влиянии курсов как таковых. Можем проверить, если ли вообще разница в средних оценках обеих групп. Чтобы было интереснее, симулируем статистический тест для двух разных совокупностей (были курсы и не были) и сравним среднее оценок. Но перед этим проверим, что дисперсии равны, потом соберем среднее случайных выборок и удостоверимся, что данные в них распределены нормально хотя бы формально."
   ]
  },
  {
   "cell_type": "code",
   "execution_count": 16,
   "id": "b83f09f0-795f-4977-ae4d-789cdbe297d8",
   "metadata": {},
   "outputs": [
    {
     "name": "stdout",
     "output_type": "stream",
     "text": [
      "75.63061093444227\n",
      "72.80179334836907\n"
     ]
    }
   ],
   "source": [
    "# проверим дисперсию «оценок после» двух генеральных совокупностей\n",
    "print(variance(students_no_course['after_score']))\n",
    "print(variance(students_with_course['after_score']))"
   ]
  },
  {
   "cell_type": "markdown",
   "id": "6d9af1be-f523-4c6a-8475-65de987453a0",
   "metadata": {},
   "source": [
    "Можно посчитать, что дисперсия равна. Возьмем штук 50 выборочных средних."
   ]
  },
  {
   "cell_type": "code",
   "execution_count": 17,
   "id": "2bdac74b-2d88-4d46-b142-2610b06f5c32",
   "metadata": {},
   "outputs": [],
   "source": [
    "# обозначим стейт для воспроизводимости\n",
    "RANDOM_STATE = np.random.RandomState(999)"
   ]
  },
  {
   "cell_type": "code",
   "execution_count": 18,
   "id": "dcb97cd1-0739-4b6e-9934-7bf049ebfac3",
   "metadata": {},
   "outputs": [],
   "source": [
    "def collect_sample(df: pd.DataFrame) -> list:\n",
    "    \"\"\"\n",
    "    Функция собирает список средних\n",
    "    50 случайных выборок\n",
    "    \"\"\"\n",
    "    result = []\n",
    "    for _ in range(50):\n",
    "        sample = df.sample(frac=50, replace=True, random_state=RANDOM_STATE)\n",
    "        result.append(sample.mean())\n",
    "    return result"
   ]
  },
  {
   "cell_type": "code",
   "execution_count": 19,
   "id": "bfc8755f-60e3-4d9d-9069-1991983b2371",
   "metadata": {},
   "outputs": [],
   "source": [
    "sample_no_course = collect_sample(students_no_course['after_score'])\n",
    "sample_with_course = collect_sample(students_with_course['after_score'])"
   ]
  },
  {
   "cell_type": "code",
   "execution_count": 20,
   "id": "56b453d2-dac3-4155-8ad8-a6ae5aec1018",
   "metadata": {},
   "outputs": [
    {
     "name": "stdout",
     "output_type": "stream",
     "text": [
      "ShapiroResult(statistic=0.9762184619903564, pvalue=0.40567004680633545)\n",
      "ShapiroResult(statistic=0.980290949344635, pvalue=0.5642974376678467)\n"
     ]
    }
   ],
   "source": [
    "# прикинем формально, нормально ли распределены выборки средних при помощи теста Шапиро-Уилка\n",
    "print(shapiro(sample_no_course))\n",
    "print(shapiro(sample_with_course))"
   ]
  },
  {
   "cell_type": "markdown",
   "id": "6c7896d5-9c11-49d1-babb-490aa4b1617c",
   "metadata": {},
   "source": [
    "Нельзя однозначно сказать о том, выборки не нормального распределения. Думаю, для дальнейшего теста это может хватить. Посчитаем нулевую гипотезу такой, что на самом деле средние двух совокупностей равны, а альтернативная — не равны."
   ]
  },
  {
   "cell_type": "code",
   "execution_count": 21,
   "id": "a8921546-702b-498c-903a-186cab129771",
   "metadata": {},
   "outputs": [],
   "source": [
    "def ttest_ind(df_1: list, df_2: list, alpha: float) -> str:\n",
    "    \"\"\"\n",
    "    Функция оценивает статистически равенство\n",
    "    средних из двух генеральных совокупностей\n",
    "    \"\"\"\n",
    "    results = st.ttest_ind(df_1, df_2)\n",
    "    if results.pvalue < alpha:\n",
    "        return 'Отвергаем нулевую гипотезу'\n",
    "    else:\n",
    "        return 'Не получилось отвергнуть нулевую гипотезу'"
   ]
  },
  {
   "cell_type": "code",
   "execution_count": 22,
   "id": "54095ba1-4840-4d8a-83c0-9b8acf65828a",
   "metadata": {},
   "outputs": [
    {
     "data": {
      "text/plain": [
       "'Отвергаем нулевую гипотезу'"
      ]
     },
     "execution_count": 22,
     "metadata": {},
     "output_type": "execute_result"
    }
   ],
   "source": [
    "ttest_ind(sample_no_course, sample_with_course, 0.05)"
   ]
  },
  {
   "cell_type": "markdown",
   "id": "1846d909-66e6-4ff6-bf7f-1fdba5fbaaf6",
   "metadata": {},
   "source": [
    "Проводить этот тест не имело большого смысла, так как сравнить равенство средних мы можем и просто так:"
   ]
  },
  {
   "cell_type": "code",
   "execution_count": 23,
   "id": "014ab073-7e3d-4176-a394-750a7eb257d5",
   "metadata": {},
   "outputs": [
    {
     "data": {
      "text/plain": [
       "(85.30859375, 83.90368852459017)"
      ]
     },
     "execution_count": 23,
     "metadata": {},
     "output_type": "execute_result"
    }
   ],
   "source": [
    "(students_no_course['after_score'].mean(), students_with_course['after_score'].mean())"
   ]
  },
  {
   "cell_type": "markdown",
   "id": "f8be9b9e-0eed-442f-a803-b97f858042fa",
   "metadata": {},
   "source": [
    "Но если бы данных было в сотни тысячи раз больше, то можно было бы оценивать статистически. Однако это по-прежнему не дает нам однозначного ответа о влиянии курсов на результаты. Даже если студенты, которые не ходили на курсы, остались с прежними оценками, то это все равно не дало бы уверенности в том, что дело именно в курсах, люди ведь разные + могут быть и другие факторы, которые не учтены. Я бы предложил сравнивать результаты одних и тех же людей, которые для одного тестирования ходили на курсы, а для другого — нет. Потом можно будет оценить разницу при помощи из `scipy.statst.test_rel()`, если возвращаться к статическим методам."
   ]
  },
  {
   "cell_type": "markdown",
   "id": "1b89cb41-2d30-4140-b4b1-471d2863f453",
   "metadata": {},
   "source": [
    "## Итог"
   ]
  },
  {
   "cell_type": "markdown",
   "id": "bf18e64c-6452-432f-a509-2cbb82869b2f",
   "metadata": {},
   "source": [
    "По представленным данным нельзя дать ответ на вопрос о влиянии посещения курсов на полученные оценки."
   ]
  },
  {
   "cell_type": "code",
   "execution_count": null,
   "id": "7cfa3566-1f35-423a-bd11-a365473d787a",
   "metadata": {},
   "outputs": [],
   "source": []
  }
 ],
 "metadata": {
  "kernelspec": {
   "display_name": "Python 3 (ipykernel)",
   "language": "python",
   "name": "python3"
  },
  "language_info": {
   "codemirror_mode": {
    "name": "ipython",
    "version": 3
   },
   "file_extension": ".py",
   "mimetype": "text/x-python",
   "name": "python",
   "nbconvert_exporter": "python",
   "pygments_lexer": "ipython3",
   "version": "3.9.13"
  }
 },
 "nbformat": 4,
 "nbformat_minor": 5
}
